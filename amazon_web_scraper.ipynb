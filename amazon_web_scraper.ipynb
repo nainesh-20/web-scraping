{
 "cells": [
  {
   "cell_type": "code",
   "execution_count": 58,
   "metadata": {},
   "outputs": [],
   "source": [
    "# import libraries \n",
    "\n",
    "from bs4 import BeautifulSoup\n",
    "import requests\n",
    "import time\n",
    "import datetime\n",
    "\n",
    "import smtplib"
   ]
  },
  {
   "cell_type": "code",
   "execution_count": 59,
   "metadata": {},
   "outputs": [
    {
     "name": "stdout",
     "output_type": "stream",
     "text": [
      "\n",
      "           iPhone 14 Plus 256GB Purple\n",
      "          \n",
      "\n",
      "                             ₹99,900.00\n",
      "                            \n"
     ]
    }
   ],
   "source": [
    "\n",
    "# Connect to Website and pull in data\n",
    "\n",
    "URL = 'https://www.amazon.in/iPhone-14-Plus-256GB-Purple/dp/B0BDK63CBS/ref=sr_1_1_sspa?crid=1LJ517D2GGGOA&keywords=iphone+14&qid=1663857112&sprefix=iphone+14+%2Caps%2C225&sr=8-1-spons&psc=1'\n",
    "\n",
    "headers = {\"User-Agent\": \"Mozilla/5.0 (Windows NT 10.0; Win64; x64) AppleWebKit/537.36 (KHTML, like Gecko) Chrome/105.0.0.0 Safari/537.36\", \"Accept-Encoding\":\"gzip, deflate\", \"Accept\":\"text/html,application/xhtml+xml,application/xml;q=0.9,*/*;q=0.8\", \"DNT\":\"1\",\"Connection\":\"close\", \"Upgrade-Insecure-Requests\":\"1\"}\n",
    "\n",
    "page = requests.get(URL, headers=headers)\n",
    "\n",
    "soup1 = BeautifulSoup(page.content, \"html.parser\")\n",
    "\n",
    "soup2 = BeautifulSoup(soup1.prettify(), \"html.parser\")\n",
    "\n",
    "title = soup2.find(class_=\"a-size-large product-title-word-break\").get_text()\n",
    "\n",
    "# price = soup2.find(class_=\"a-price-whole\").get_text()\n",
    "\n",
    "price = soup2.find(class_=\"a-offscreen\").get_text()\n",
    "\n",
    "print(title)\n",
    "# print(price.strip())\n",
    "print(price)"
   ]
  },
  {
   "cell_type": "code",
   "execution_count": 60,
   "metadata": {},
   "outputs": [
    {
     "name": "stdout",
     "output_type": "stream",
     "text": [
      "iPhone 14 Plus 256GB Purple\n",
      "₹99,900.00\n"
     ]
    }
   ],
   "source": [
    "# Clean up the data a little bit\n",
    "\n",
    "price = price.strip()\n",
    "title = title.strip()\n",
    "\n",
    "print(title)\n",
    "print(price)"
   ]
  },
  {
   "cell_type": "code",
   "execution_count": 61,
   "metadata": {},
   "outputs": [
    {
     "name": "stdout",
     "output_type": "stream",
     "text": [
      "2022-09-24 20:37:49.460943\n"
     ]
    }
   ],
   "source": [
    "# Create a Timestamp for your output to track when data was collected\n",
    "\n",
    "import datetime\n",
    "\n",
    "# today = datetime.date.today()\n",
    "\n",
    "current_time = datetime.datetime.now()\n",
    "\n",
    "# print(today)\n",
    "print(current_time)"
   ]
  },
  {
   "cell_type": "code",
   "execution_count": 62,
   "metadata": {},
   "outputs": [],
   "source": [
    "# Create CSV and write headers and data into the file\n",
    "\n",
    "import csv \n",
    "\n",
    "header = ['Title', 'Price', 'Date']\n",
    "data = [title, price, current_time]\n",
    "\n",
    "\n",
    "with open('AmazonWebScraperDataset.csv', 'a', newline='', encoding='UTF8') as f:\n",
    "    writer = csv.writer(f)\n",
    "    # writer.writerow(header)\n",
    "    writer.writerow(data)"
   ]
  },
  {
   "cell_type": "code",
   "execution_count": 63,
   "metadata": {},
   "outputs": [
    {
     "name": "stdout",
     "output_type": "stream",
     "text": [
      "99900.0\n"
     ]
    }
   ],
   "source": [
    "import pandas as pd\n",
    "\n",
    "df = pd.read_csv(r'D:\\python\\AmazonWebScraperDataset.csv')\n",
    "\n",
    "# print(df)\n",
    "\n",
    "latest_price = df[-1:]\n",
    "\n",
    "# print(type(latest_price))\n",
    "\n",
    "price = str(latest_price[\"Price\"].values[0])\n",
    "\n",
    "price = price.replace(\",\", \"\").replace(\"₹\", \"\")\n",
    "\n",
    "price = float(price)\n",
    "\n",
    "print(price)"
   ]
  },
  {
   "cell_type": "code",
   "execution_count": 64,
   "metadata": {},
   "outputs": [],
   "source": [
    "def send_mail():\n",
    "    port = 587  # For SSL\n",
    "    server = smtplib.SMTP('smtp.gmail.com', port)\n",
    "    server.starttls()\n",
    "\n",
    "    server.login(\"naineshrathod20@gmail.com\", \"xxxx xxxx xxxx\") \n",
    "\n",
    "    server.sendmail('naineshrathod20@gmail.com', 'demo@gmail.com', f\"Hi, the current price for {title} is {price}. Buy soon before it gets out of stock.\")\n",
    "\n",
    "    print(\"mail sent\")"
   ]
  },
  {
   "cell_type": "code",
   "execution_count": 65,
   "metadata": {},
   "outputs": [
    {
     "name": "stdout",
     "output_type": "stream",
     "text": [
      "mail sent\n"
     ]
    }
   ],
   "source": [
    "send_mail()"
   ]
  }
 ],
 "metadata": {
  "kernelspec": {
   "display_name": "Python 3.9.12 ('minimal_ds')",
   "language": "python",
   "name": "python3"
  },
  "language_info": {
   "codemirror_mode": {
    "name": "ipython",
    "version": 3
   },
   "file_extension": ".py",
   "mimetype": "text/x-python",
   "name": "python",
   "nbconvert_exporter": "python",
   "pygments_lexer": "ipython3",
   "version": "3.9.12"
  },
  "orig_nbformat": 4,
  "vscode": {
   "interpreter": {
    "hash": "030b8ba6a7a050f3863ba2e0221b465eeeac92e4b649c5859aaef3d9eae00c06"
   }
  }
 },
 "nbformat": 4,
 "nbformat_minor": 2
}
